{
 "cells": [
  {
   "cell_type": "markdown",
   "metadata": {},
   "source": [
    "#Understanding Bostock’s Les Miserables Co-occurrence chart in Bokeh\n",
    "\n",
    "\n",
    "-- *Notes by Philip Dürholt and Silvia Gutiérrez*"
   ]
  },
  {
   "cell_type": "markdown",
   "metadata": {},
   "source": [
    "In this notebook we went through the data you can feed and the [code you need](http://bokeh.pydata.org/en/latest/docs/tutorials/solutions/gallery/les_mis.html) to get a super nice co-occurrence chart using Python's viz-library \"[Bokeh](http://bokeh.pydata.org/en/latest/)\". We commented everything step by step in order to understand better its characteristics and hopefully our findings will be as useful to you as they were to us."
   ]
  },
  {
   "cell_type": "code",
   "execution_count": 2,
   "metadata": {
    "collapsed": false,
    "scrolled": false
   },
   "outputs": [
    {
     "name": "stdout",
     "output_type": "stream",
     "text": [
      "77\n",
      "254\n"
     ]
    }
   ],
   "source": [
    "#Import statements\n",
    "from bokeh.sampledata.les_mis import data\n",
    "import numpy as np\n",
    "from bokeh.plotting import figure, output_file, show\n",
    "from bokeh.models import HoverTool, ColumnDataSource\n",
    "\n",
    "#Data structure\n",
    "#print(data)\n",
    "print(len(data['nodes']))\n",
    "print(len(data['links']))"
   ]
  },
  {
   "cell_type": "markdown",
   "metadata": {},
   "source": [
    "##The DATA: JSON"
   ]
  },
  {
   "cell_type": "markdown",
   "metadata": {},
   "source": [
    "The sampledata.les_mis that was taken for this tutorial is written in JSON and it has two records: **nodes** and **links**, and each one of them has one array (square brackets hold arrays).\n",
    "\n",
    "* *Nodes* contains multiple objects [curly braces hold objects] with two attribute-value pairs, name and group, and they look like this:\n",
    ">`'nodes': [{'group': 1, 'name': 'Myriel'}, {'group': 1, 'name': 'Napoleon'}]`\n",
    "\n",
    "* *Links* has three attribute-value pairs: target, source and value, and this is how they look like:\n",
    "\n",
    ">`'links': [{'value': 1, 'target': 0, 'source': 1}, {'value': 8, 'target': 0, 'source': 2}]`"
   ]
  },
  {
   "cell_type": "code",
   "execution_count": 3,
   "metadata": {
    "collapsed": false
   },
   "outputs": [
    {
     "name": "stdout",
     "output_type": "stream",
     "text": [
      "{'source': 26, 'target': 11, 'value': 31}\n",
      "77\n"
     ]
    }
   ],
   "source": [
    "\n",
    "#print(names)\n",
    "print(data['links'][54])\n",
    "groups = [node['group'] for node in data['nodes']]\n",
    "#max(groups)\n",
    "nodes\n",
    "print(len(nodes))"
   ]
  },
  {
   "cell_type": "markdown",
   "metadata": {},
   "source": [
    "#Setting data for the plot\n",
    "\n",
    "##Coocurrence counts\n",
    "\n",
    "In order to store the information about the counts, we can create an empty numpy array shaped as a tuple whose values are the length of the nodes.\n",
    "\n",
    "Sounds harsh huh? \n",
    "\n",
    "Don't worry, it is not so difficult and after taking a look at the code you can check our notes in the next cell explaining everything step by step."
   ]
  },
  {
   "cell_type": "code",
   "execution_count": 4,
   "metadata": {
    "collapsed": false
   },
   "outputs": [
    {
     "name": "stdout",
     "output_type": "stream",
     "text": [
      "This is the length of nodes:\n",
      " 77 \n",
      "\n",
      "This is what is stored in counts:\n",
      " [[  0.00000000e+000   1.00000000e+000   8.00000000e+000   1.00000000e+001\n",
      "    1.00000000e+000   1.00000000e+000   1.00000000e+000   1.00000000e+000\n",
      "    2.00000000e+000   1.00000000e+000  -8.85480012e-284   5.00000000e+000\n",
      "    6.93252930e-310   3.01911373e-156   0.00000000e+000   0.00000000e+000\n",
      "    3.91928793e+208   6.93256290e-310   6.93252930e-310   2.12199579e-314\n",
      "    0.00000000e+000   0.00000000e+000   2.12199579e-314   0.00000000e+000\n",
      "    0.00000000e+000   2.12199579e-314   0.00000000e+000   0.00000000e+000\n",
      "    2.12199579e-314   2.46010107e-319   6.93256346e-310   6.93256346e-310\n",
      "    6.93256397e-310   2.47032823e-323   0.00000000e+000   0.00000000e+000\n",
      "    0.00000000e+000   4.39265575e-167   0.00000000e+000   0.00000000e+000\n",
      "   -8.85480012e-284   0.00000000e+000   0.00000000e+000   3.01911373e-156\n",
      "    0.00000000e+000   0.00000000e+000   3.91928793e+208   0.00000000e+000\n",
      "    0.00000000e+000   6.36598737e-314   0.00000000e+000   0.00000000e+000\n",
      "    6.36598737e-314   0.00000000e+000   0.00000000e+000   6.36598737e-314\n",
      "    0.00000000e+000   0.00000000e+000   1.18575755e-321   1.18575755e-321\n",
      "    0.00000000e+000   3.95252517e-323   6.93256397e-310   2.47032823e-323\n",
      "    0.00000000e+000   0.00000000e+000   0.00000000e+000   6.36598737e-314\n",
      "    0.00000000e+000   0.00000000e+000   6.36598737e-314   0.00000000e+000\n",
      "    0.00000000e+000   6.36598737e-314   0.00000000e+000   0.00000000e+000\n",
      "    0.00000000e+000]] ...\n",
      " 5929\n"
     ]
    }
   ],
   "source": [
    "N = len(nodes)\n",
    "print('This is the length of nodes:\\n', N,'\\n')\n",
    "counts = np.empty((N, N))\n",
    "#cooclist = []\n",
    "for link in data['links']:\n",
    "    #cooclist.append(link['value'])\n",
    "    #print(link) \n",
    "    #print(counts[link['source'], link['target']])\n",
    "    #print('Target - Source', [link['target'], link['source']])\n",
    "    counts[link['source'], link['target']] = link['value']\n",
    "    counts[link['target'], link['source']] = link['value']\n",
    "\n",
    "#print('This is the sorted values of the co-occurences would look like:\\n',sorted(cooclist), '\\n')\n",
    "print('This is what is stored in counts:\\n',counts[:1],'...' '\\n', len(counts) * len(counts[0]))"
   ]
  },
  {
   "cell_type": "markdown",
   "metadata": {},
   "source": [
    "\n",
    "###np-empty()\n",
    "\n",
    "The first thing you gotta do is to understand **np.empty**. You can learn anything you need by reading [the documentation](http://docs.scipy.org/doc/numpy/reference/generated/numpy.empty.html) but we'll approach the matter with some examples: \n",
    "\n",
    "So `np.empty((5,2))`, for instance, generates a numpy array with the \"shape\" or \"size\" of `(5,2)`. You can understand this as shape thing if you imagine it is a table and that the first number represents the number of rows and the second the number of columns. So (5,2) would be a table with 5 rows and two columns. That was not so hard, was it? So in the code they created a two-dimensional np.array (a table that has two dimensions). After the initialization **`counts`** consists of random floats but when we run the code it overwrites those random values of counts with the values of the 'coordinates' (source, target) and (target, source).\n",
    "\n",
    "To do this we \"call\" every link in the links dataset (these guys --> {'target': 0, 'value': 1, 'source': 1} ) and then we ask for the values-cooccurences of our source-target combinations. \n",
    "\n",
    "For example: [1, 0]) were 1 and 0 are \"indices\" or positions of our of source and target characters if `nodes` was enummerated. We do this \"twice\" (`[link['source'], link['target']` ANNND `[link['target'], link['source']`) in order to get the \"square-map\" we need for a our viz (cf. the diagonal symmetry of the chart). If we would just get either all source -> target links or all target -> source links but not both - we would have only half the chart.\n",
    "\n",
    "If you want a square(-map) you need (1,1), (1,2), (1,3), (2,2), (2,3), (3,3) AND (2,1), (3,1), (3,2) [which are the 'reverse combinations' of the first group]\n",
    "\n",
    "BUT, not all 'coordinates' can be found in data['links']! \n",
    "\n",
    "Remember we had 77 nodes and 254 links? If we had a link from each node to all other existing nodes we would have 5925 (77\\*\\*2) links! \n",
    "\n",
    "If you print **`counts`** you might notice that some \"funny numbers\" like -1.09611685e-080. The 'funny numbers' we see, are the random values that are left from the initial counts, that was generated with np.empty.\n",
    "\n",
    "Bare this in mind when you see the gray rectangles, that represent the characters with no co-occurence but nonetheless  *have* a count value and differ in alpha values.\n",
    "\n",
    "Alpha what? \n",
    "\n",
    "Check the next part and you'll undertand what we're talking about"
   ]
  },
  {
   "cell_type": "markdown",
   "metadata": {},
   "source": [
    "##Alphas\n",
    "\n",
    "\n",
    "\n",
    "In the following code the co-occurrence count should be given by the pair of names in `count[i,j]`. The strategy is to color each rect by the group, and set its alpha based on the count.\n",
    "\n",
    "\n",
    "\n",
    "To understand how we set our alpha with `min(counts[i,j]/4.0, 0.9)`, let's take a look at the following code:\n"
   ]
  },
  {
   "cell_type": "code",
   "execution_count": 24,
   "metadata": {
    "collapsed": false
   },
   "outputs": [
    {
     "name": "stdout",
     "output_type": "stream",
     "text": [
      "==[The \"count can be 0\"-example doesn't work because every time we call np.empty, the value at [76, 52] will be different!]== \n",
      "\n",
      "Let us take the following count as a starting point \n",
      " counts[0,2]=  8.0 \n",
      "\n",
      "8.0 exceeds 0.9 after being divided by 4: \n",
      " counts[0,2]/4.0 =  2.0 \n",
      "\n",
      "With min we choose to store 0.9 instead: \n",
      " min(counts[0,2]/4.0, 0.9) =  0.9 \n",
      "\n",
      "Sometimes are count can equal 0: \n",
      " counts[76, 52] =  2.084148742e-57 \n",
      " (We'll just act as if it was a 0)\n",
      "\n",
      "In this cases we add 0.1 to keep all alphas in range 0.1 to 1.0: \n",
      " min(counts[76,52], 0.9) + 0.1) =  0.1 \n",
      "\n"
     ]
    }
   ],
   "source": [
    "print('==[The \"count can be 0\"-example doesn\\'t work because every time we call np.empty, the value at [76, 52] will be different!]== \\n')\n",
    "print('Let us take the following count as a starting point \\n counts[0,2]= ', counts[0,2],'\\n')\n",
    "print('8.0 exceeds 0.9 after being divided by 4: \\n counts[0,2]/4.0 = ', counts[0,2]/4.0,'\\n')\n",
    "print('With min we choose to store 0.9 instead: \\n min(counts[0,2]/4.0, 0.9) = ', min(counts[0,2]/4.0, 0.9),'\\n')\n",
    "#print(counts[11,58]/4.0)\n",
    "print('Sometimes are count can equal 0: \\n counts[76, 52] = ', counts[76, 52],'\\n', '(We\\'ll just act as if it was a 0)\\n')\n",
    "print('In this cases we add 0.1 to keep all alphas in range 0.1 to 1.0: \\n min(counts[76,52], 0.9) + 0.1) = ',\n",
    "      min(counts[76,52], 0.9) + 0.1 ,'\\n')"
   ]
  },
  {
   "cell_type": "markdown",
   "metadata": {},
   "source": [
    "###Getting meaningful alphas\n",
    "\n",
    "So you might have asked yourself: why are we dividing our counts by 4? Well it is not a magic number, I can tell you that, and it depends completely on your data. In this case 80% of the coocurrence values are between 1 and 4. Therefore, with the formula, we get a nice (significant) alpha value for most of our data. The other 20% will have the  maximum alpha of 1.0 (max = 0.9 + 0.1 = 1.0).\n"
   ]
  },
  {
   "cell_type": "code",
   "execution_count": 25,
   "metadata": {
    "collapsed": true
   },
   "outputs": [],
   "source": [
    "colormap = [\n",
    "    \"#444444\", \"#a6cee3\", \"#1f78b4\", \"#b2df8a\", \"#33a02c\", \"#fb9a99\",\n",
    "    \"#e31a1c\", \"#fdbf6f\", \"#ff7f00\", \"#cab2d6\", \"#6a3d9a\"\n",
    "]\n",
    "xname = []\n",
    "yname = []\n",
    "color = []\n",
    "alpha = []\n",
    "for i, n1 in enumerate(nodes):\n",
    "    for j, n2 in enumerate(nodes):\n",
    "        xname.append(n1['name'])\n",
    "        yname.append(n2['name'])\n",
    "       \n",
    "        #print(i, j, counts[i,j])\n",
    "        \n",
    "        a = min(counts[i,j]/4.0, 0.9) + 0.1\n",
    "        alpha.append(a)\n",
    "\n",
    "        if n1['group'] == n2['group']:\n",
    "            color.append(colormap[n1['group']])\n",
    "        else:\n",
    "            color.append('lightgrey')"
   ]
  },
  {
   "cell_type": "markdown",
   "metadata": {},
   "source": [
    "###Concluding\n",
    "\n",
    "As we learned before, counts provides a value for every rectangle in the graphic, some of them carry the information given by the link value (transformed by the 'formula' to have a significant alpha value) - some are useless random numbers. Since we color every co-occurrence in the output and label every non-co-occurent character combination with lightgrey we are left with a nice visualization."
   ]
  },
  {
   "cell_type": "markdown",
   "metadata": {},
   "source": [
    "## ColumnDataSource\n",
    "\n",
    "Why do the counts need to be flatten? When I print the result of the flattened counts I get one list of numbers like : 6.90178054e-310   1.00000000e+000   8.00000000e+000"
   ]
  },
  {
   "cell_type": "code",
   "execution_count": 14,
   "metadata": {
    "collapsed": false
   },
   "outputs": [],
   "source": [
    "# EXERCISE: output static HTML file\n",
    "output_file(\"les_mis.html\")\n",
    "\n",
    "# Create a ColumnDataSource to hold the xnames, ynames, colors, alphas,\n",
    "# and counts. NOTE: the counts array is 2D and will need to be flattened\n",
    "source = ColumnDataSource(\n",
    "    data=dict(\n",
    "        xname=xname,\n",
    "        yname=yname,\n",
    "        colors=color,\n",
    "        alphas=alpha,\n",
    "        count=counts.flatten()\n",
    "    )\n",
    ")\n",
    "\n",
    "#print(counts.flatten())"
   ]
  },
  {
   "cell_type": "markdown",
   "metadata": {},
   "source": [
    "##Looking at the Data"
   ]
  },
  {
   "cell_type": "code",
   "execution_count": 70,
   "metadata": {
    "collapsed": false
   },
   "outputs": [
    {
     "data": {
      "text/html": [
       "<div style=\"max-height:1000px;max-width:1500px;overflow:auto;\">\n",
       "<table border=\"1\" class=\"dataframe\">\n",
       "  <thead>\n",
       "    <tr style=\"text-align: right;\">\n",
       "      <th></th>\n",
       "      <th>xname</th>\n",
       "      <th>colors</th>\n",
       "      <th>alphas</th>\n",
       "      <th>yname</th>\n",
       "      <th>count</th>\n",
       "    </tr>\n",
       "  </thead>\n",
       "  <tbody>\n",
       "    <tr>\n",
       "      <th>0</th>\n",
       "      <td> Myriel</td>\n",
       "      <td> #a6cee3</td>\n",
       "      <td> 0.10</td>\n",
       "      <td>          Myriel</td>\n",
       "      <td> 5.240945e-316</td>\n",
       "    </tr>\n",
       "    <tr>\n",
       "      <th>1</th>\n",
       "      <td> Myriel</td>\n",
       "      <td> #a6cee3</td>\n",
       "      <td> 0.35</td>\n",
       "      <td>        Napoleon</td>\n",
       "      <td>  1.000000e+00</td>\n",
       "    </tr>\n",
       "    <tr>\n",
       "      <th>2</th>\n",
       "      <td> Myriel</td>\n",
       "      <td> #a6cee3</td>\n",
       "      <td> 1.00</td>\n",
       "      <td> Mlle.Baptistine</td>\n",
       "      <td>  8.000000e+00</td>\n",
       "    </tr>\n",
       "    <tr>\n",
       "      <th>3</th>\n",
       "      <td> Myriel</td>\n",
       "      <td> #a6cee3</td>\n",
       "      <td> 1.00</td>\n",
       "      <td>    Mme.Magloire</td>\n",
       "      <td>  1.000000e+01</td>\n",
       "    </tr>\n",
       "    <tr>\n",
       "      <th>4</th>\n",
       "      <td> Myriel</td>\n",
       "      <td> #a6cee3</td>\n",
       "      <td> 0.35</td>\n",
       "      <td>    CountessdeLo</td>\n",
       "      <td>  1.000000e+00</td>\n",
       "    </tr>\n",
       "    <tr>\n",
       "      <th>5</th>\n",
       "      <td> Myriel</td>\n",
       "      <td> #a6cee3</td>\n",
       "      <td> 0.35</td>\n",
       "      <td>        Geborand</td>\n",
       "      <td>  1.000000e+00</td>\n",
       "    </tr>\n",
       "    <tr>\n",
       "      <th>6</th>\n",
       "      <td> Myriel</td>\n",
       "      <td> #a6cee3</td>\n",
       "      <td> 0.35</td>\n",
       "      <td>    Champtercier</td>\n",
       "      <td>  1.000000e+00</td>\n",
       "    </tr>\n",
       "    <tr>\n",
       "      <th>7</th>\n",
       "      <td> Myriel</td>\n",
       "      <td> #a6cee3</td>\n",
       "      <td> 0.35</td>\n",
       "      <td>        Cravatte</td>\n",
       "      <td>  1.000000e+00</td>\n",
       "    </tr>\n",
       "  </tbody>\n",
       "</table>\n",
       "</div>"
      ],
      "text/plain": [
       "    xname   colors  alphas            yname          count\n",
       "0  Myriel  #a6cee3    0.10           Myriel  5.240945e-316\n",
       "1  Myriel  #a6cee3    0.35         Napoleon   1.000000e+00\n",
       "2  Myriel  #a6cee3    1.00  Mlle.Baptistine   8.000000e+00\n",
       "3  Myriel  #a6cee3    1.00     Mme.Magloire   1.000000e+01\n",
       "4  Myriel  #a6cee3    0.35     CountessdeLo   1.000000e+00\n",
       "5  Myriel  #a6cee3    0.35         Geborand   1.000000e+00\n",
       "6  Myriel  #a6cee3    0.35     Champtercier   1.000000e+00\n",
       "7  Myriel  #a6cee3    0.35         Cravatte   1.000000e+00"
      ]
     },
     "execution_count": 70,
     "metadata": {},
     "output_type": "execute_result"
    }
   ],
   "source": [
    "source_df = source.to_df()\n",
    "\n",
    "source_df[:8]"
   ]
  },
  {
   "cell_type": "markdown",
   "metadata": {},
   "source": [
    "**Resp:** If we want to have counts as a column it can't be a 2D array (we would have 77 values in each row of 'count').\n",
    "Just test it yourself - delete '.flatten()' after counts and read the Exception (must be 1-dimensional)."
   ]
  },
  {
   "cell_type": "markdown",
   "metadata": {},
   "source": [
    "## Figure"
   ]
  },
  {
   "cell_type": "code",
   "execution_count": 60,
   "metadata": {
    "collapsed": true
   },
   "outputs": [],
   "source": [
    "# create a new figure\n",
    "p = figure(title=\"Les Mis Occurrences (one at a time)\",\n",
    "           x_axis_location=\"above\", tools=\"resize,hover\",\n",
    "           x_range=list(reversed(names)), y_range=names,\n",
    "           plot_width=800, plot_height=800)"
   ]
  },
  {
   "cell_type": "markdown",
   "metadata": {},
   "source": [
    "## Adding a rect glyph\n",
    "\n",
    "The [rect glyph](http://bokeh.pydata.org/en/latest/docs/reference/plotting.html#bokeh.plotting.Figure.rect) displays rectangles centered on the given coordinates with the given dimensions and angle.\n",
    "\n",
    "Parameters:\t\n",
    "* x (str or list[float]) – values or field names of center x coordinates\n",
    "* y (str or list[float]) – values or field names of center y coordinates\n",
    "* width (str or list[float]) – values or field names of widths\n",
    "* height (str or list[float]) – values or field names of heights\n",
    "* angle (str or list[float], optional) – values or field names of rotation angles, defaults to 0\n",
    "* dilate (bool, optional) – whether to dilate pixel distance computations when drawing, defaults to False\n"
   ]
  },
  {
   "cell_type": "code",
   "execution_count": 61,
   "metadata": {
    "collapsed": true
   },
   "outputs": [],
   "source": [
    "# EXERCISE: use the `p.rect` renderer to render a categorical heatmap of all the\n",
    "# data. Experiment with the widths and heights (use categorical percentage\n",
    "# unite) as well as colors and alphas\n",
    "\n",
    "p.rect('xname', 'yname', 0.9, 0.9, source=source,\n",
    "       color='colors', alpha='alphas', line_color=None)\n",
    "\n",
    "# EXERCISE: use p.grid, p.axis, etc. to style the plot. Some suggestions:\n",
    "#   - remove the axis and grid lines\n",
    "#   - remove the major ticks\n",
    "#   - make the tick labels smaller\n",
    "#   - set the x-axis orientation to vertical, or angled\n",
    "p.grid.grid_line_color = None\n",
    "p.axis.axis_line_color = None\n",
    "p.axis.major_tick_line_color = None\n",
    "p.axis.major_label_text_font_size = \"5pt\"\n",
    "p.axis.major_label_standoff = 0\n",
    "p.xaxis.major_label_orientation = np.pi/3\n",
    "\n",
    "#print(np.pi/3) #Result : 1.0471975511965976\n",
    "\n",
    "# EXERCISE: configure the hover tool to display both names as well as\n",
    "# the count value as tooltips\n",
    "hover = p.select(dict(type=HoverTool))\n",
    "hover.tooltips = [\n",
    "    ('names', '@yname, @xname'),\n",
    "    ('count', '@count'),\n",
    "]\n",
    "\n",
    "# EXERCISE: show the plot\n",
    "show(p)"
   ]
  }
 ],
 "metadata": {
  "kernelspec": {
   "display_name": "Python 3",
   "language": "python",
   "name": "python3"
  },
  "language_info": {
   "codemirror_mode": {
    "name": "ipython",
    "version": 3
   },
   "file_extension": ".py",
   "mimetype": "text/x-python",
   "name": "python",
   "nbconvert_exporter": "python",
   "pygments_lexer": "ipython3",
   "version": "3.4.3"
  }
 },
 "nbformat": 4,
 "nbformat_minor": 0
}
